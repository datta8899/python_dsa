{
 "cells": [
  {
   "cell_type": "markdown",
   "id": "4eb3259e",
   "metadata": {},
   "source": [
    "Hacker Rank profile - https://www.hackerrank.com/saptarshi_r_dat1"
   ]
  },
  {
   "cell_type": "markdown",
   "id": "3100ece0",
   "metadata": {},
   "source": [
    "# Problem Statement:"
   ]
  },
  {
   "cell_type": "markdown",
   "id": "cfccee73",
   "metadata": {},
   "source": [
    "**Lonely Integer:**\n",
    "\n",
    "Given an array of integers, where all elements but one occur twice, find the unique element.\n",
    "\n",
    "Example\n",
    "\n",
    "The unique element is .\n",
    "\n",
    "Function Description\n",
    "\n",
    "Complete the lonelyinteger function in the editor below.\n",
    "\n",
    "lonelyinteger has the following parameter(s):\n",
    "\n",
    "int a[n]: an array of integers\n",
    "Returns\n",
    "\n",
    "int: the element that occurs only once\n",
    "Input Format\n",
    "\n",
    "The first line contains a single integer, , the number of integers in the array.\n",
    "The second line contains  space-separated integers that describe the values in .\n",
    "\n",
    "Constraints\n",
    "\n",
    "It is guaranteed that  is an odd number and that there is one unique element.\n",
    ", where ."
   ]
  },
  {
   "cell_type": "code",
   "execution_count": null,
   "id": "0aed03a6",
   "metadata": {},
   "outputs": [],
   "source": [
    "#!/bin/python3\n",
    "\n",
    "import math\n",
    "import os\n",
    "import random\n",
    "import re\n",
    "import sys\n",
    "\n",
    "\n",
    "#\n",
    "# Complete the 'lonelyinteger' function below.\n",
    "#\n",
    "# The function is expected to return an INTEGER.\n",
    "# The function accepts INTEGER_ARRAY a as parameter.\n",
    "#\n",
    "\n",
    "def lonelyinteger(a):\n",
    "    # Write your code here\n",
    "    q = []\n",
    "    for i in a:\n",
    "        if i in q:\n",
    "            q.remove(i)\n",
    "        else:\n",
    "            q.append(i)\n",
    "    return q[0]\n",
    "            \n",
    "            \n",
    "\n",
    "if __name__ == '__main__':\n",
    "    fptr = open(os.environ['OUTPUT_PATH'], 'w')\n",
    "\n",
    "    n = int(input().strip())\n",
    "\n",
    "    a = list(map(int, input().rstrip().split()))\n",
    "\n",
    "    result = lonelyinteger(a)\n",
    "\n",
    "    fptr.write(str(result) + '\\n')\n",
    "\n",
    "    fptr.close()\n"
   ]
  },
  {
   "cell_type": "markdown",
   "id": "dbf9ecd7",
   "metadata": {},
   "source": [
    "9 Test cases passed"
   ]
  }
 ],
 "metadata": {
  "kernelspec": {
   "display_name": "Python 3 (ipykernel)",
   "language": "python",
   "name": "python3"
  },
  "language_info": {
   "codemirror_mode": {
    "name": "ipython",
    "version": 3
   },
   "file_extension": ".py",
   "mimetype": "text/x-python",
   "name": "python",
   "nbconvert_exporter": "python",
   "pygments_lexer": "ipython3",
   "version": "3.10.8"
  }
 },
 "nbformat": 4,
 "nbformat_minor": 5
}
