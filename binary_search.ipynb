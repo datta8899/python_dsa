{
 "cells": [
  {
   "cell_type": "markdown",
   "id": "3100ece0",
   "metadata": {},
   "source": [
    "# Problem Statement:"
   ]
  },
  {
   "cell_type": "markdown",
   "id": "f6b39e7b",
   "metadata": {},
   "source": [
    "from Jovian:\n",
    "We need to write a program to find the position of a given number in a list of numbers arranged in decreasing order. We also need to minimize the number of times we access elements from the list.\n",
    "\n",
    "input:\n",
    "    cards: list\n",
    "    query: number\n",
    "output:\n",
    "    position: index of query"
   ]
  },
  {
   "cell_type": "code",
   "execution_count": 17,
   "id": "6516ab83",
   "metadata": {},
   "outputs": [],
   "source": [
    "def locate_query(cards, query):\n",
    "    low = 0\n",
    "    high = len(cards)-1\n",
    "    while low <= high:\n",
    "        mid = (low + high)\n",
    "        guess = cards[mid]\n",
    "        if guess == query:\n",
    "            return mid\n",
    "        if query > guess:\n",
    "            low = mid + 1\n",
    "        else:\n",
    "            high = mid - 1\n",
    "        \n",
    "    return None"
   ]
  },
  {
   "cell_type": "markdown",
   "id": "8a3c4d3d",
   "metadata": {},
   "source": [
    "# Come up with some example inputs & outputs. Try to cover all edge cases."
   ]
  },
  {
   "cell_type": "code",
   "execution_count": 11,
   "id": "8c82baff",
   "metadata": {},
   "outputs": [],
   "source": [
    "cards = [13, 11, 10, 7, 5, 4, 2, 1]\n",
    "query = 4\n",
    "output= 5"
   ]
  },
  {
   "cell_type": "code",
   "execution_count": 18,
   "id": "08c21227",
   "metadata": {},
   "outputs": [
    {
     "name": "stdout",
     "output_type": "stream",
     "text": [
      "None\n"
     ]
    }
   ],
   "source": [
    "print(locate_query(cards=cards, query=query))"
   ]
  }
 ],
 "metadata": {
  "kernelspec": {
   "display_name": "Python 3 (ipykernel)",
   "language": "python",
   "name": "python3"
  },
  "language_info": {
   "codemirror_mode": {
    "name": "ipython",
    "version": 3
   },
   "file_extension": ".py",
   "mimetype": "text/x-python",
   "name": "python",
   "nbconvert_exporter": "python",
   "pygments_lexer": "ipython3",
   "version": "3.10.8"
  }
 },
 "nbformat": 4,
 "nbformat_minor": 5
}
