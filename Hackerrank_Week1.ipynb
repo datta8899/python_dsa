{
 "cells": [
  {
   "cell_type": "markdown",
   "id": "3100ece0",
   "metadata": {},
   "source": [
    "# Problem Statement:"
   ]
  },
  {
   "cell_type": "markdown",
   "id": "f6b39e7b",
   "metadata": {},
   "source": [
    "Plus Minus:\n",
    "\n",
    "Given an array of integers, calculate the ratios of its elements that are positive, negative, and zero. Print the decimal value of each fraction on a new line with  places after the decimal.\n",
    "\n",
    "Note: This challenge introduces precision problems. The test cases are scaled to six decimal places, though answers with absolute error of up to  are acceptable.\n",
    "\n",
    "Example\n",
    "\n",
    "There are  elements, two positive, two negative and one zero. Their ratios are ,  and . Results are printed as:\n",
    "\n",
    "0.400000\n",
    "0.400000\n",
    "0.200000\n",
    "Function Description\n",
    "\n",
    "Complete the plusMinus function in the editor below.\n",
    "\n",
    "plusMinus has the following parameter(s):\n",
    "\n",
    "int arr[n]: an array of integers\n",
    "Print\n",
    "Print the ratios of positive, negative and zero values in the array. Each value should be printed on a separate line with  digits after the decimal. The function should not return a value.\n",
    "\n",
    "Input Format\n",
    "\n",
    "The first line contains an integer, , the size of the array.\n",
    "The second line contains  space-separated integers that describe .\n",
    "\n",
    "Constraints\n",
    "\n",
    "\n",
    "\n",
    "Output Format\n",
    "\n",
    "Print the following  lines, each to  decimals:\n",
    "\n",
    "proportion of positive values\n",
    "proportion of negative values\n",
    "proportion of zeros\n",
    "Sample Input\n",
    "\n",
    "STDIN           Function\n",
    "-----           --------\n",
    "6               arr[] size n = 6\n",
    "-4 3 -9 0 4 1   arr = [-4, 3, -9, 0, 4, 1]\n",
    "Sample Output\n",
    "\n",
    "0.500000\n",
    "0.333333\n",
    "0.166667\n",
    "Explanation\n",
    "\n",
    "There are  positive numbers,  negative numbers, and  zero in the array.\n",
    "The proportions of occurrence are positive: , negative:  and zeros: ."
   ]
  },
  {
   "cell_type": "code",
   "execution_count": null,
   "id": "08c21227",
   "metadata": {},
   "outputs": [
    {
     "name": "stdout",
     "output_type": "stream",
     "text": [
      "None\n"
     ]
    }
   ],
   "source": [
    "def plusMinus(arr_len, arr):\n",
    "    num_dict={\"pos\": 0, \"neg\": 0, \"zero\": 0}\n",
    "    for i in arr:\n",
    "        if i > 0:\n",
    "            num_dict[\"pos\"] += 1\n",
    "        elif i < 0:\n",
    "            num_dict[\"neg\"] += 1\n",
    "        else:\n",
    "            num_dict[\"zero\"] += 1\n",
    "    print('{:06f}'.format(num_dict[\"pos\"]/arr_len))\n",
    "    print('{:06f}'.format(num_dict[\"neg\"]/arr_len))\n",
    "    print('{:06f}'.format(num_dict[\"zero\"]/arr_len))\n",
    "\n",
    "if __name__ == '__main__':\n",
    "    n = int(input().strip())\n",
    "    arr = list(map(int, input().strip().split()))\n",
    "    plusMinus(n, arr)"
   ]
  },
  {
   "cell_type": "code",
   "execution_count": null,
   "id": "b55eee99",
   "metadata": {},
   "outputs": [],
   "source": [
    "Ran successfully. 100% test cases completed"
   ]
  },
  {
   "cell_type": "markdown",
   "id": "44076086",
   "metadata": {},
   "source": [
    "Mini-Max Sum:\n",
    "\n",
    "Given five positive integers, find the minimum and maximum values that can be calculated by summing exactly four of the five integers. Then print the respective minimum and maximum values as a single line of two space-separated long integers.\n",
    "\n",
    "Example\n",
    "\n",
    "The minimum sum is  and the maximum sum is . The function prints\n",
    "\n",
    "16 24\n",
    "Function Description\n",
    "\n",
    "Complete the miniMaxSum function in the editor below.\n",
    "\n",
    "miniMaxSum has the following parameter(s):\n",
    "\n",
    "arr: an array of  integers\n",
    "Print\n",
    "\n",
    "Print two space-separated integers on one line: the minimum sum and the maximum sum of  of  elements.\n",
    "\n",
    "Input Format\n",
    "\n",
    "A single line of five space-separated integers.\n",
    "\n",
    "Constraints\n",
    "\n",
    "\n",
    "Output Format\n",
    "\n",
    "Print two space-separated long integers denoting the respective minimum and maximum values that can be calculated by summing exactly four of the five integers. (The output can be greater than a 32 bit integer.)\n",
    "\n",
    "Sample Input\n",
    "\n",
    "1 2 3 4 5\n",
    "Sample Output\n",
    "\n",
    "10 14\n",
    "Explanation\n",
    "\n",
    "The numbers are , , , , and . Calculate the following sums using four of the five integers:\n",
    "\n",
    "Sum everything except , the sum is .\n",
    "Sum everything except , the sum is .\n",
    "Sum everything except , the sum is .\n",
    "Sum everything except , the sum is .\n",
    "Sum everything except , the sum is .\n",
    "Hints: Beware of integer overflow! Use 64-bit Integer.\n",
    "\n",
    "Need help to get started? Try the Solve Me First problem"
   ]
  },
  {
   "cell_type": "code",
   "execution_count": null,
   "id": "a689274c",
   "metadata": {},
   "outputs": [],
   "source": [
    "def miniMaxSum(arr: list):\n",
    "    arr_len = len(arr)\n",
    "    arr_sum_dict = {\"min\": 0, \"max\": 0}\n",
    "    for idx in range(arr_len):\n",
    "        arr_cp = arr.copy()\n",
    "        arr_cp.pop(idx)\n",
    "        arr_sum = sum(arr_cp)\n",
    "        if arr_sum >= arr_sum_dict[\"max\"] or arr_sum_dict[\"max\"] == 0:\n",
    "            arr_sum_dict[\"max\"] = arr_sum\n",
    "        if arr_sum <= arr_sum_dict[\"min\"] or arr_sum_dict[\"min\"] == 0:\n",
    "            arr_sum_dict[\"min\"] = arr_sum\n",
    "    \n",
    "    print(arr_sum_dict[\"min\"], arr_sum_dict[\"max\"])\n",
    "            \n",
    "if __name__ == \"__main__\":\n",
    "    arr = list(map(int, input().strip().split()))\n",
    "    miniMaxSum(arr)"
   ]
  },
  {
   "cell_type": "markdown",
   "id": "a5f34dcd",
   "metadata": {},
   "source": []
  }
 ],
 "metadata": {
  "kernelspec": {
   "display_name": "Python 3 (ipykernel)",
   "language": "python",
   "name": "python3"
  },
  "language_info": {
   "codemirror_mode": {
    "name": "ipython",
    "version": 3
   },
   "file_extension": ".py",
   "mimetype": "text/x-python",
   "name": "python",
   "nbconvert_exporter": "python",
   "pygments_lexer": "ipython3",
   "version": "3.10.8"
  }
 },
 "nbformat": 4,
 "nbformat_minor": 5
}
